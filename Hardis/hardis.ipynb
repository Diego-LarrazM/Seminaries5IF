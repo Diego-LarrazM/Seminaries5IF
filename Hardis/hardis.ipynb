{
 "cells": [
  {
   "cell_type": "code",
   "execution_count": 2,
   "id": "fb425379",
   "metadata": {},
   "outputs": [],
   "source": [
    "from pymongo import MongoClient\n",
    "import matplotlib.pyplot as mp\n",
    "import warnings\n",
    "import os\n",
    "import dotenv\n",
    "warnings.filterwarnings('ignore')"
   ]
  },
  {
   "cell_type": "code",
   "execution_count": 4,
   "id": "ee77eaa5",
   "metadata": {},
   "outputs": [],
   "source": [
    "host = \"mongodb://localhost:27017/\", #else\n",
    "\n",
    "# we use the MongoClient to communicate with the running database instance.\n",
    "myclient = MongoClient(host) #Mongo URI format"
   ]
  },
  {
   "cell_type": "code",
   "execution_count": 6,
   "id": "0e2de7bf",
   "metadata": {},
   "outputs": [],
   "source": [
    "myclient.list_database_names()\n",
    "db = myclient[\"newyork\"]"
   ]
  },
  {
   "cell_type": "markdown",
   "id": "e914a188",
   "metadata": {},
   "source": [
    "## 1/"
   ]
  },
  {
   "cell_type": "code",
   "execution_count": 63,
   "id": "0de005ea",
   "metadata": {},
   "outputs": [
    {
     "name": "stdout",
     "output_type": "stream",
     "text": [
      "{'_id': ObjectId('68ef65e7f45788eeba2410ea'), 'address': {'building': '469', 'coord': {'type': 'Point', 'coordinates': [-73.961704, 40.662942]}, 'street': 'Flatbush Avenue', 'zipcode': '11225'}, 'borough': 'Brooklyn', 'cuisine': 'Hamburgers', 'grades': [{'date': datetime.datetime(2014, 12, 30, 0, 0), 'grade': 'A', 'score': 8}, {'date': datetime.datetime(2014, 7, 1, 0, 0), 'grade': 'B', 'score': 23}, {'date': datetime.datetime(2013, 4, 30, 0, 0), 'grade': 'A', 'score': 12}, {'date': datetime.datetime(2012, 5, 8, 0, 0), 'grade': 'A', 'score': 12}], 'name': \"Wendy'S\", 'restaurant_id': '30112340'}\n",
      "{'_id': ObjectId('68ef65e7f45788eeba2410ec'), 'address': {'building': '2780', 'coord': {'type': 'Point', 'coordinates': [-73.98241999999999, 40.579505]}, 'street': 'Stillwell Avenue', 'zipcode': '11224'}, 'borough': 'Brooklyn', 'cuisine': 'American ', 'grades': [{'date': datetime.datetime(2014, 6, 10, 0, 0), 'grade': 'A', 'score': 5}, {'date': datetime.datetime(2013, 6, 5, 0, 0), 'grade': 'A', 'score': 7}, {'date': datetime.datetime(2012, 4, 13, 0, 0), 'grade': 'A', 'score': 12}, {'date': datetime.datetime(2011, 10, 12, 0, 0), 'grade': 'A', 'score': 12}], 'name': 'Riviera Caterer', 'restaurant_id': '40356018'}\n",
      "{'_id': ObjectId('68ef65e7f45788eeba2410f0'), 'address': {'building': '7114', 'coord': {'type': 'Point', 'coordinates': [-73.9068506, 40.6199034]}, 'street': 'Avenue U', 'zipcode': '11234'}, 'borough': 'Brooklyn', 'cuisine': 'Delicatessen', 'grades': [{'date': datetime.datetime(2014, 5, 29, 0, 0), 'grade': 'A', 'score': 10}, {'date': datetime.datetime(2014, 1, 14, 0, 0), 'grade': 'A', 'score': 10}, {'date': datetime.datetime(2013, 8, 3, 0, 0), 'grade': 'A', 'score': 8}, {'date': datetime.datetime(2012, 7, 18, 0, 0), 'grade': 'A', 'score': 10}, {'date': datetime.datetime(2012, 3, 9, 0, 0), 'grade': 'A', 'score': 13}, {'date': datetime.datetime(2011, 10, 14, 0, 0), 'grade': 'A', 'score': 9}], 'name': \"Wilken'S Fine Food\", 'restaurant_id': '40356483'}\n",
      "{'_id': ObjectId('68ef65e7f45788eeba2410f1'), 'address': {'building': '6409', 'coord': {'type': 'Point', 'coordinates': [-74.00528899999999, 40.628886]}, 'street': '11 Avenue', 'zipcode': '11219'}, 'borough': 'Brooklyn', 'cuisine': 'American ', 'grades': [{'date': datetime.datetime(2014, 7, 18, 0, 0), 'grade': 'A', 'score': 12}, {'date': datetime.datetime(2013, 7, 30, 0, 0), 'grade': 'A', 'score': 12}, {'date': datetime.datetime(2013, 2, 13, 0, 0), 'grade': 'A', 'score': 11}, {'date': datetime.datetime(2012, 8, 16, 0, 0), 'grade': 'A', 'score': 2}, {'date': datetime.datetime(2011, 8, 17, 0, 0), 'grade': 'A', 'score': 11}], 'name': 'Regina Caterers', 'restaurant_id': '40356649'}\n",
      "{'_id': ObjectId('68ef65e7f45788eeba2410f2'), 'address': {'building': '1839', 'coord': {'type': 'Point', 'coordinates': [-73.9482609, 40.6408271]}, 'street': 'Nostrand Avenue', 'zipcode': '11226'}, 'borough': 'Brooklyn', 'cuisine': 'Ice Cream, Gelato, Yogurt, Ices', 'grades': [{'date': datetime.datetime(2014, 7, 14, 0, 0), 'grade': 'A', 'score': 12}, {'date': datetime.datetime(2013, 7, 10, 0, 0), 'grade': 'A', 'score': 8}, {'date': datetime.datetime(2012, 7, 11, 0, 0), 'grade': 'A', 'score': 5}, {'date': datetime.datetime(2012, 2, 23, 0, 0), 'grade': 'A', 'score': 8}], 'name': 'Taste The Tropics Ice Cream', 'restaurant_id': '40356731'}\n"
     ]
    }
   ],
   "source": [
    "for doc in db.restaurants.find({\"borough\":\"Brooklyn\"}).limit(5):\n",
    "    print(doc)"
   ]
  },
  {
   "cell_type": "code",
   "execution_count": 62,
   "id": "c7e50656",
   "metadata": {},
   "outputs": [
    {
     "name": "stdout",
     "output_type": "stream",
     "text": [
      "{'_id': ObjectId('68ef65e7f45788eeba241121'), 'address': {'building': '10004', 'coord': {'type': 'Point', 'coordinates': [-74.03400479999999, 40.6127077]}, 'street': '4 Avenue', 'zipcode': '11209'}, 'borough': 'Brooklyn', 'cuisine': 'Italian', 'grades': [{'date': datetime.datetime(2014, 2, 25, 0, 0), 'grade': 'A', 'score': 12}, {'date': datetime.datetime(2013, 6, 27, 0, 0), 'grade': 'A', 'score': 7}, {'date': datetime.datetime(2012, 12, 3, 0, 0), 'grade': 'A', 'score': 10}, {'date': datetime.datetime(2011, 11, 9, 0, 0), 'grade': 'A', 'score': 12}], 'name': 'Philadelhia Grille Express', 'restaurant_id': '40364305'}\n",
      "{'_id': ObjectId('68ef65e7f45788eeba24114e'), 'address': {'building': '7201', 'coord': {'type': 'Point', 'coordinates': [-74.0166091, 40.6284767]}, 'street': '8 Avenue', 'zipcode': '11228'}, 'borough': 'Brooklyn', 'cuisine': 'Italian', 'grades': [{'date': datetime.datetime(2014, 12, 4, 0, 0), 'grade': 'A', 'score': 11}, {'date': datetime.datetime(2014, 2, 19, 0, 0), 'grade': 'A', 'score': 10}, {'date': datetime.datetime(2013, 7, 9, 0, 0), 'grade': 'A', 'score': 9}, {'date': datetime.datetime(2012, 6, 6, 0, 0), 'grade': 'A', 'score': 10}, {'date': datetime.datetime(2011, 12, 19, 0, 0), 'grade': 'A', 'score': 12}], 'name': 'New Corner', 'restaurant_id': '40365355'}\n",
      "{'_id': ObjectId('68ef65e7f45788eeba241163'), 'address': {'building': '2911', 'coord': {'type': 'Point', 'coordinates': [-73.982241, 40.576366]}, 'street': 'West   15 Street', 'zipcode': '11224'}, 'borough': 'Brooklyn', 'cuisine': 'Italian', 'grades': [{'date': datetime.datetime(2014, 12, 18, 0, 0), 'grade': 'A', 'score': 13}, {'date': datetime.datetime(2014, 5, 15, 0, 0), 'grade': 'A', 'score': 12}, {'date': datetime.datetime(2013, 6, 12, 0, 0), 'grade': 'A', 'score': 9}, {'date': datetime.datetime(2012, 2, 6, 0, 0), 'grade': 'A', 'score': 9}], 'name': \"Gargiulo'S Restaurant\", 'restaurant_id': '40365784'}\n",
      "{'_id': ObjectId('68ef65e7f45788eeba241173'), 'address': {'building': '2929', 'coord': {'type': 'Point', 'coordinates': [-73.942849, 40.6076256]}, 'street': 'Avenue R', 'zipcode': '11229'}, 'borough': 'Brooklyn', 'cuisine': 'Italian', 'grades': [{'date': datetime.datetime(2014, 3, 13, 0, 0), 'grade': 'A', 'score': 9}, {'date': datetime.datetime(2013, 10, 2, 0, 0), 'grade': 'A', 'score': 12}, {'date': datetime.datetime(2013, 1, 22, 0, 0), 'grade': 'A', 'score': 12}, {'date': datetime.datetime(2012, 6, 12, 0, 0), 'grade': 'A', 'score': 8}, {'date': datetime.datetime(2011, 12, 1, 0, 0), 'grade': 'B', 'score': 20}, {'date': datetime.datetime(2011, 5, 25, 0, 0), 'grade': 'A', 'score': 9}], 'name': \"Michael'S Restaurant\", 'restaurant_id': '40366154'}\n",
      "{'_id': ObjectId('68ef65e7f45788eeba2411d2'), 'address': {'building': '193', 'coord': {'type': 'Point', 'coordinates': [-73.94347599999999, 40.718386]}, 'street': 'Frost Street', 'zipcode': '11211'}, 'borough': 'Brooklyn', 'cuisine': 'Italian', 'grades': [{'date': datetime.datetime(2014, 3, 13, 0, 0), 'grade': 'A', 'score': 10}, {'date': datetime.datetime(2013, 7, 31, 0, 0), 'grade': 'A', 'score': 6}, {'date': datetime.datetime(2013, 2, 13, 0, 0), 'grade': 'B', 'score': 18}, {'date': datetime.datetime(2012, 7, 25, 0, 0), 'grade': 'A', 'score': 11}, {'date': datetime.datetime(2012, 2, 7, 0, 0), 'grade': 'A', 'score': 9}], 'name': 'Frost Restaurant', 'restaurant_id': '40368526'}\n"
     ]
    }
   ],
   "source": [
    "for doc in db.restaurants.find({\"borough\":\"Brooklyn\", \"cuisine\":\"Italian\"}).limit(5):\n",
    "    print(doc)"
   ]
  },
  {
   "cell_type": "code",
   "execution_count": null,
   "id": "d9e9c69f",
   "metadata": {},
   "outputs": [],
   "source": [
    "for doc in db.restaurants.find({\"borough\":\"Brooklyn\", \"name\": {\"$regex\":\"/Pizza/i\"}}).limit(10):\n",
    "    print(doc) #for some reason it doesn't work here but it does in compass"
   ]
  },
  {
   "cell_type": "code",
   "execution_count": 59,
   "id": "86bd2bdc",
   "metadata": {},
   "outputs": [
    {
     "name": "stdout",
     "output_type": "stream",
     "text": [
      "{'NombreDeRestaurants': 414}\n"
     ]
    }
   ],
   "source": [
    "for doc in db.restaurants.aggregate([\n",
    "    {\"$match\":\n",
    "        {\"address.street\": {\"$regex\": \"^5 Avenue.*\"}}\n",
    "    },\n",
    "    {\"$count\": \n",
    "        \"NombreDeRestaurants\"\n",
    "    }\n",
    "]):\n",
    "    print(doc)"
   ]
  },
  {
   "cell_type": "code",
   "execution_count": 64,
   "id": "bd1d4a42",
   "metadata": {},
   "outputs": [
    {
     "name": "stdout",
     "output_type": "stream",
     "text": [
      "{'grades': [{'score': 8}, {'score': 6}, {'score': 0}, {'score': 0}], 'name': 'African Terrace'}\n",
      "{'grades': [{'score': 11}, {'score': 10}, {'score': 2}, {'score': 0}], 'name': 'Beaver Pond'}\n",
      "{'grades': [{'score': 3}, {'score': 2}, {'score': 0}, {'score': 9}, {'score': 12}, {'score': 7}], 'name': \"Ljubo'S Pizzeria\"}\n",
      "{'grades': [{'score': 9}, {'score': 0}, {'score': 2}, {'score': 13}, {'score': 12}, {'score': 13}], 'name': \"Zaro'S Bread Basket\"}\n",
      "{'grades': [{'score': 12}, {'score': 12}, {'score': 0}, {'score': 30}, {'score': 8}, {'score': 9}], 'name': \"Joe'S Pizza\"}\n"
     ]
    }
   ],
   "source": [
    "for doc in db.restaurants.find({\"borough\":\"Bronx\", \"grades.score\": {\"$lte\": 1}}, {\"name\":1, \"grades.score\":1, \"_id\":0}).limit(5):\n",
    "    print(doc) "
   ]
  },
  {
   "cell_type": "code",
   "execution_count": null,
   "id": "34d512ba",
   "metadata": {},
   "outputs": [
    {
     "name": "stdout",
     "output_type": "stream",
     "text": [
      "Before: {'_id': ObjectId('68ef65e7f45788eeba241110'), 'address': {'building': '2491', 'coord': {'type': 'Point', 'coordinates': [-74.1459332, 40.6103714]}, 'street': 'Victory Boulevard', 'zipcode': '10314'}, 'borough': 'Staten Island', 'cuisine': 'Delicatessen', 'grades': [{'date': datetime.datetime(2015, 1, 9, 0, 0), 'grade': 'A', 'score': 3}, {'date': datetime.datetime(2013, 12, 5, 0, 0), 'grade': 'A', 'score': 10}, {'date': datetime.datetime(2013, 6, 19, 0, 0), 'grade': 'A', 'score': 10}, {'date': datetime.datetime(2013, 1, 8, 0, 0), 'grade': 'A', 'score': 11}], 'name': 'Bagels N Buns', 'restaurant_id': '40363427'}\n",
      "\n",
      "After: {'_id': ObjectId('68ef65e7f45788eeba241110'), 'address': {'building': '2491', 'coord': {'type': 'Point', 'coordinates': [-74.1459332, 40.6103714]}, 'street': '23 chemin du détour', 'zipcode': '69100'}, 'borough': 'Villeurbanne', 'cuisine': 'Delicatessen', 'grades': [{'date': datetime.datetime(2015, 1, 9, 0, 0), 'grade': 'A', 'score': 3}, {'date': datetime.datetime(2013, 12, 5, 0, 0), 'grade': 'A', 'score': 10}, {'date': datetime.datetime(2013, 6, 19, 0, 0), 'grade': 'A', 'score': 10}, {'date': datetime.datetime(2013, 1, 8, 0, 0), 'grade': 'A', 'score': 11}], 'name': 'Bagels N Buns', 'restaurant_id': '40363427', 'coordinates': [45.7719, 4.8902]}\n"
     ]
    }
   ],
   "source": [
    "a = list(db.restaurants.find({\"name\":\"Bagels N Buns\"}))[0]\n",
    "print(f\"Before: {a}\")\n",
    "db.restaurants.update_one({\"name\":\"Bagels N Buns\"},{\"$set\": {\"address.street\": \"23 chemin du détour\", \"address.zipcode\": \"69100\", \"borough\": \"Villeurbanne\"}})\n",
    "print()\n",
    "a = list(db.restaurants.find({\"name\":\"Bagels N Buns\"}))[0]\n",
    "print(f\"After: {a}\")\n"
   ]
  },
  {
   "cell_type": "markdown",
   "id": "61591c69",
   "metadata": {},
   "source": [
    "## 2/"
   ]
  },
  {
   "cell_type": "code",
   "execution_count": 5,
   "id": "357fae0b",
   "metadata": {},
   "outputs": [],
   "source": [
    "db_tp = myclient[\"tour_pedia\"]\n",
    "for s in [\"paris\",\"amsterdam\",\"london\"]:\n",
    "    db_tp[s]"
   ]
  },
  {
   "cell_type": "code",
   "execution_count": 7,
   "id": "5594b9f9",
   "metadata": {},
   "outputs": [
    {
     "name": "stdout",
     "output_type": "stream",
     "text": [
      "{'name': 'Shangri-La Hotel, Paris'}\n",
      "{'name': 'Hôtel les Degrés de Notre Dame'}\n",
      "{'name': 'Novotel Paris Tour Eiffel'}\n",
      "{'name': 'Hyatt Regency Paris Etoile (ex Concorde Lafayette)'}\n",
      "{'name': 'Novotel Paris Les Halles'}\n"
     ]
    }
   ],
   "source": [
    "for doc in db_tp.paris.find({ \"services\": {\"$regex\":\"chinois.*\"}, \"category\": \"accommodation\" }, {\"name\":1, \"_id\":0}).limit(5):\n",
    "    print(doc) "
   ]
  },
  {
   "cell_type": "code",
   "execution_count": 25,
   "id": "fdda335a",
   "metadata": {},
   "outputs": [
    {
     "name": "stdout",
     "output_type": "stream",
     "text": [
      "{'Category': 'poi', 'Total': 26846}\n",
      "{'Category': 'restaurant', 'Total': 21823}\n",
      "{'Category': 'attraction', 'Total': 4316}\n",
      "{'Category': 'accommodation', 'Total': 3376}\n"
     ]
    }
   ],
   "source": [
    "paris_categories_nb = list(db_tp.paris.aggregate([\n",
    "    {\"$group\":{\n",
    "        \"_id\": \"$category\",\n",
    "        \"Total\": {\"$sum\":1}\n",
    "    }},\n",
    "    {\"$project\":{\n",
    "        \"Category\":\"$_id\",\n",
    "        \"Total\":\"$Total\",\n",
    "        \"_id\":0\n",
    "    }},\n",
    "    {\"$sort\":{\"Total\":-1}}\n",
    "]))\n",
    "l_cats = [doc[\"Category\"] for doc in paris_categories_nb]\n",
    "l_total = [doc[\"Total\"] for doc in paris_categories_nb]\n",
    "for doc in paris_categories_nb:\n",
    "    print(doc) "
   ]
  },
  {
   "cell_type": "code",
   "execution_count": 26,
   "id": "2d0c9c3b",
   "metadata": {},
   "outputs": [
    {
     "data": {
      "text/plain": [
       "<BarContainer object of 4 artists>"
      ]
     },
     "execution_count": 26,
     "metadata": {},
     "output_type": "execute_result"
    },
    {
     "data": {
      "image/png": "[encoded data removed]",
      "text/plain": [
       "<Figure size 640x480 with 1 Axes>"
      ]
     },
     "metadata": {},
     "output_type": "display_data"
    }
   ],
   "source": [
    "mp.bar(l_cats,l_total, width=0.8, bottom=None, align='center', )"
   ]
  },
  {
   "cell_type": "markdown",
   "id": "7cf5b01c",
   "metadata": {},
   "source": [
    "## 3/ Cloud Connexion"
   ]
  },
  {
   "cell_type": "code",
   "execution_count": 5,
   "id": "53f4d341",
   "metadata": {},
   "outputs": [
    {
     "data": {
      "text/plain": [
       "['sample_mflix', 'admin', 'local']"
      ]
     },
     "execution_count": 5,
     "metadata": {},
     "output_type": "execute_result"
    }
   ],
   "source": [
    "dotenv_path = os.path.join(os.getcwd(), '.env')\n",
    "dotenv.load_dotenv(dotenv_path)\n",
    "\n",
    "HOST_URL = os.environ.get(\"HOST_URL\")\n",
    "CloudClient = MongoClient(HOST_URL) #Mongo URI format\n",
    "\n",
    "CloudClient.list_database_names()"
   ]
  }
 ],
 "metadata": {
  "kernelspec": {
   "display_name": "Python 3",
   "language": "python",
   "name": "python3"
  },
  "language_info": {
   "codemirror_mode": {
    "name": "ipython",
    "version": 3
   },
   "file_extension": ".py",
   "mimetype": "text/x-python",
   "name": "python",
   "nbconvert_exporter": "python",
   "pygments_lexer": "ipython3",
   "version": "3.11.9"
  }
 },
 "nbformat": 4,
 "nbformat_minor": 5
}
